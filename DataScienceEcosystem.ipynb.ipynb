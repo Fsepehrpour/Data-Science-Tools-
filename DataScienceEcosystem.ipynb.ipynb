{
 "cells": [
  {
   "cell_type": "markdown",
   "id": "6b15f77c-e098-4df5-8f06-1dcfcc836482",
   "metadata": {},
   "source": [
    "# Data Science Tools and Ecosystem"
   ]
  },
  {
   "cell_type": "markdown",
   "id": "3f306fc4-d354-46b8-952d-5887780497cd",
   "metadata": {},
   "source": [
    "In this notebook, Data Science Tools and Ecosystem are summarized.\n"
   ]
  },
  {
   "cell_type": "markdown",
   "id": "e5b7e8b1-1051-49f1-99d2-145bb9aca722",
   "metadata": {},
   "source": [
    "**Objectives**\n",
    "\n",
    "* List Popular Languages for Data Science\n",
    "* List Popular Libraries for Data Science \n",
    "* List Populat Integrated Development Environments (IDEs)\n"
   ]
  },
  {
   "cell_type": "code",
   "execution_count": null,
   "id": "3ed3016c-2f19-4033-81a1-5ed104f87066",
   "metadata": {},
   "outputs": [],
   "source": []
  },
  {
   "cell_type": "markdown",
   "id": "51933543-c47b-49b8-8c0e-2a3771e7ccbd",
   "metadata": {},
   "source": [
    "Some of the popular languages that Data Scientists use are:"
   ]
  },
  {
   "cell_type": "markdown",
   "id": "e9a5b33f-e8a4-4c60-ac66-093a11f1a167",
   "metadata": {},
   "source": [
    "1. Python\n",
    "2. R\n",
    "3. SQL"
   ]
  },
  {
   "cell_type": "code",
   "execution_count": null,
   "id": "629582ed-faad-437d-8e54-4fb806f6cdb9",
   "metadata": {},
   "outputs": [],
   "source": []
  },
  {
   "cell_type": "markdown",
   "id": "d958249c-c191-4ac0-995b-e33aac60b4e2",
   "metadata": {},
   "source": [
    "Some of the commonly used libraries used by Data Scientists include:\n",
    "\n",
    "1. Numpy\n",
    "2. Pandas \n",
    "3. Matplotlib"
   ]
  },
  {
   "cell_type": "code",
   "execution_count": null,
   "id": "365a513c-cf39-4ffa-988c-fad1dff282eb",
   "metadata": {},
   "outputs": [],
   "source": []
  },
  {
   "cell_type": "markdown",
   "id": "1b33c9a8-b9ca-48c9-ae74-c074a85dbaff",
   "metadata": {},
   "source": [
    "| Data Science Tools|\n",
    "| ----------------- |\n",
    "| Jupyter Notebook  |\n",
    "| Jupyter Lab       |\n",
    "| VScode            |\n",
    "| RStudio           |"
   ]
  },
  {
   "cell_type": "code",
   "execution_count": null,
   "id": "75c8ddf0-31b7-44f5-ad39-7003696616fb",
   "metadata": {},
   "outputs": [],
   "source": []
  },
  {
   "cell_type": "markdown",
   "id": "b3c47291-4cbc-43a1-9a45-ed49edb5b6e9",
   "metadata": {},
   "source": [
    "### Below are a few examples of evaluating arithmetic expressions in Python"
   ]
  },
  {
   "cell_type": "code",
   "execution_count": 7,
   "id": "e1bba832-190e-4f7a-bf00-9a19a7808fdb",
   "metadata": {},
   "outputs": [
    {
     "data": {
      "text/plain": [
       "17"
      ]
     },
     "execution_count": 7,
     "metadata": {},
     "output_type": "execute_result"
    }
   ],
   "source": [
    "# This a simple arithmetic expression to mutiply then add integers\n",
    "\n",
    "(3*4)+5"
   ]
  },
  {
   "cell_type": "code",
   "execution_count": 8,
   "id": "936d0871-302c-4f35-b8c6-ec904bcf9d4b",
   "metadata": {},
   "outputs": [
    {
     "name": "stdout",
     "output_type": "stream",
     "text": [
      "3.3333333333333335\n"
     ]
    }
   ],
   "source": [
    "# This will convert 200 minutes to hours by diving by 60\n",
    "\n",
    "minutes = 200\n",
    "hours = 60 \n",
    "\n",
    "time = minutes/hours\n",
    "print(time)"
   ]
  },
  {
   "cell_type": "code",
   "execution_count": null,
   "id": "d380a804-6321-4bce-bc38-bd43766010b5",
   "metadata": {},
   "outputs": [],
   "source": []
  },
  {
   "cell_type": "markdown",
   "id": "9a4370cd-0c93-4979-8bbd-34a56e869eb1",
   "metadata": {},
   "source": [
    "## Author \n",
    "Fatemeh Sepehrpour"
   ]
  },
  {
   "cell_type": "code",
   "execution_count": null,
   "id": "6a106625-d6cd-4930-a583-888a40302fce",
   "metadata": {},
   "outputs": [],
   "source": []
  }
 ],
 "metadata": {
  "kernelspec": {
   "display_name": "Python 3 (ipykernel)",
   "language": "python",
   "name": "python3"
  },
  "language_info": {
   "codemirror_mode": {
    "name": "ipython",
    "version": 3
   },
   "file_extension": ".py",
   "mimetype": "text/x-python",
   "name": "python",
   "nbconvert_exporter": "python",
   "pygments_lexer": "ipython3",
   "version": "3.10.9"
  }
 },
 "nbformat": 4,
 "nbformat_minor": 5
}
